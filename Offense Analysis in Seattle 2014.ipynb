{
 "cells": [
  {
   "cell_type": "markdown",
   "metadata": {
    "hideCode": true,
    "hidePrompt": true
   },
   "source": [
    "# Seattle Offense Analysis in 2014\n",
    "\n",
    "\n",
    "The purpose of this paper is to analyze the crime dataset provided by the Seattle Police Department. The chosen year has been 2014.\n",
    "(Source: https://data.seattle.gov/Public-Safety/Seattle-Police-Department-Police-Report-Incident/7ais-f98f)\n",
    "\n",
    "Other external sources have also been consulted to add valuable data, among them the most important has been the historical temperature.\n",
    "(Source: http://www.usclimatedata.com/climate/seattle/washington/united-states/uswa0395)\n"
   ]
  },
  {
   "cell_type": "code",
   "execution_count": 57,
   "metadata": {
    "collapsed": true,
    "hideCode": true,
    "hidePrompt": true
   },
   "outputs": [],
   "source": [
    "import csv\n",
    "import os\n",
    "import pandas as pd\n",
    "import numpy  as np\n",
    "from dateutil import parser\n",
    "from IPython.core.debugger import Tracer\n",
    "import matplotlib.pyplot as plt\n",
    "import seaborn as sns\n",
    "color = sns.color_palette()\n",
    "#import tabulate\n",
    "\n",
    "DEFAUL_INFO_FOLDER = 'Y:\\\\Data Science Coursera\\\\Course01-Assignment01-CrimeRepresentation\\\\Data Prepared\\\\'"
   ]
  },
  {
   "cell_type": "code",
   "execution_count": 58,
   "metadata": {
    "collapsed": true,
    "hideCode": true,
    "hidePrompt": true
   },
   "outputs": [],
   "source": [
    "    fileName = 'Seattle_Police_Department_Police_Report_Incident'\n",
    "    file = DEFAUL_INFO_FOLDER + fileName + '.csv'\n",
    "    df=pd.read_csv(file)\n",
    "\n",
    "    #adittional info\n",
    "    fileName = 'seattle_additional_info'\n",
    "    file = DEFAUL_INFO_FOLDER + fileName + '.csv'\n",
    "    ad=pd.read_csv(file)\n",
    "\n",
    "\n",
    "    #filter 2014\n",
    "    df = df[df['Year']==2014]\n",
    "    ad = ad[ad['Year']==2014]"
   ]
  },
  {
   "cell_type": "markdown",
   "metadata": {
    "hideCode": true,
    "hidePrompt": true
   },
   "source": [
    "## Relationship Between Temperature and Number of Offenses\n",
    "\n",
    "The maximum monthly average temperature in 2014 has been retreived to analyze it's relationship with the number of offenses. The following chart shows that, in general, the number of offenses depends on the temperature. However, in Seattle 2014, there are 2 months, May and June, that the number of offenses is lower than expected. The worst months in terms of number of offenses are July, August and September."
   ]
  },
  {
   "cell_type": "code",
   "execution_count": 7,
   "metadata": {
    "collapsed": false,
    "hideCode": true,
    "hidePrompt": true
   },
   "outputs": [
    {
     "data": {
      "image/png": "[encoded data removed]",
      "text/plain": [
       "<matplotlib.figure.Figure at 0xbfbcd10>"
      ]
     },
     "metadata": {},
     "output_type": "display_data"
    }
   ],
   "source": [
    "    #crimes vs mean max temperature per month\n",
    "    dfCrMoUnformat = df['Month'].value_counts()\n",
    "\n",
    "    dfCrMo = pd.concat([dfCrMoUnformat,dfCrMoUnformat.index.to_series()], axis=1).reset_index(drop=True)\n",
    "    dfCrMo.columns = ['CrimeCount', 'Month']\n",
    "\n",
    "\n",
    "    dfGraph = pd.merge(ad, dfCrMo, on='Month')\n",
    "\n",
    "\n",
    "    fit = np.polyfit(dfGraph['Temperature'],dfGraph['CrimeCount'],1)\n",
    "    fit_fn = np.poly1d(fit)\n",
    "\n",
    "\n",
    "\n",
    "    fig, ax = plt.subplots()\n",
    "    ax.scatter(dfGraph['Temperature'], dfGraph['CrimeCount'])\n",
    "    plt.plot(dfGraph['Temperature'], fit_fn(dfGraph['Temperature']), '--k')\n",
    "    plt.xlabel('Temperature [F]', fontsize=12)\n",
    "    plt.ylabel('Number of Offenses', fontsize=12)\n",
    "\n",
    "    for i, txt in enumerate(['Dec','Nov','Oct','Sep','Agu','Jul','Jun','May','Apr','Mar','Feb','Jan']):\n",
    "        ax.annotate(txt, (dfGraph['Temperature'][i]+0.5,dfGraph['CrimeCount'][i]))\n",
    "\n",
    "    plt.show()"
   ]
  },
  {
   "cell_type": "markdown",
   "metadata": {
    "collapsed": true,
    "hideCode": true,
    "hidePrompt": true
   },
   "source": [
    "## Most Common Offenses\n",
    "\n",
    "A study on the number of offenses classified by type has been done. The following table shows the ten most common offenses and their respective percentage over total number of offenses in 2014."
   ]
  },
  {
   "cell_type": "code",
   "execution_count": 59,
   "metadata": {
    "collapsed": false,
    "hideCode": true,
    "hidePrompt": true
   },
   "outputs": [
    {
     "name": "stderr",
     "output_type": "stream",
     "text": [
      "C:\\ProgramData\\Anaconda2\\lib\\site-packages\\ipykernel\\__main__.py:6: FutureWarning: order is deprecated, use sort_values(...)\n"
     ]
    },
    {
     "data": {
      "text/html": [
       "<div>\n",
       "<table border=\"1\" class=\"dataframe\">\n",
       "  <thead>\n",
       "    <tr style=\"text-align: right;\">\n",
       "      <th>Offense</th>\n",
       "      <th>Offense Ratio [%]</th>\n",
       "    </tr>\n",
       "  </thead>\n",
       "  <tbody>\n",
       "    <tr>\n",
       "      <th>STOLEN PROPERTY</th>\n",
       "      <td>35.950413</td>\n",
       "    </tr>\n",
       "    <tr>\n",
       "      <th>BURGLARY</th>\n",
       "      <td>14.256198</td>\n",
       "    </tr>\n",
       "    <tr>\n",
       "      <th>VEHICLE THEFT</th>\n",
       "      <td>7.809917</td>\n",
       "    </tr>\n",
       "    <tr>\n",
       "      <th>ASSAULT</th>\n",
       "      <td>6.983471</td>\n",
       "    </tr>\n",
       "    <tr>\n",
       "      <th>OTHER PROPERTY</th>\n",
       "      <td>5.000000</td>\n",
       "    </tr>\n",
       "    <tr>\n",
       "      <th>NARCOTICS</th>\n",
       "      <td>4.793388</td>\n",
       "    </tr>\n",
       "    <tr>\n",
       "      <th>CAR PROWL</th>\n",
       "      <td>4.214876</td>\n",
       "    </tr>\n",
       "    <tr>\n",
       "      <th>FRAUD</th>\n",
       "      <td>2.107438</td>\n",
       "    </tr>\n",
       "    <tr>\n",
       "      <th>PROPERTY DAMAGE</th>\n",
       "      <td>2.024793</td>\n",
       "    </tr>\n",
       "    <tr>\n",
       "      <th>SHOPLIFTING</th>\n",
       "      <td>2.024793</td>\n",
       "    </tr>\n",
       "  </tbody>\n",
       "</table>\n",
       "</div>"
      ],
      "text/plain": [
       "Offense          Offense Ratio [%]\n",
       "STOLEN PROPERTY          35.950413\n",
       "BURGLARY                 14.256198\n",
       "VEHICLE THEFT             7.809917\n",
       "ASSAULT                   6.983471\n",
       "OTHER PROPERTY            5.000000\n",
       "NARCOTICS                 4.793388\n",
       "CAR PROWL                 4.214876\n",
       "FRAUD                     2.107438\n",
       "PROPERTY DAMAGE           2.024793\n",
       "SHOPLIFTING               2.024793"
      ]
     },
     "execution_count": 59,
     "metadata": {},
     "output_type": "execute_result"
    }
   ],
   "source": [
    "    #Most Relevant Crimes\n",
    "\n",
    "    dfCrCo = 100 * df['Summarized Offense Description'].value_counts() / len(df['Summarized Offense Description'])\n",
    "\n",
    "    #print the 10 most relevant crimes\n",
    "    dfCrCoOrder   = dfCrCo.order(ascending = False) #sort a series\n",
    "\n",
    "    table = pd.DataFrame(dfCrCoOrder.head(10))\n",
    "    table.columns = ['Offense Ratio [%]']\n",
    "    table.columns.name = 'Offense'\n",
    "    table\n"
   ]
  },
  {
   "cell_type": "markdown",
   "metadata": {
    "hideCode": true,
    "hidePrompt": true
   },
   "source": [
    "The four most common offenses sum the following percentage of the total number of offenses:"
   ]
  },
  {
   "cell_type": "code",
   "execution_count": 60,
   "metadata": {
    "collapsed": false,
    "hideCode": true,
    "hidePrompt": true
   },
   "outputs": [
    {
     "data": {
      "text/plain": [
       "65.0"
      ]
     },
     "execution_count": 60,
     "metadata": {},
     "output_type": "execute_result"
    }
   ],
   "source": [
    "sum(dfCrCoOrder[0:4].values)"
   ]
  },
  {
   "cell_type": "markdown",
   "metadata": {
    "hideCode": true,
    "hidePrompt": true
   },
   "source": [
    "## Ratio of Per Capita Crime by Districts\n",
    "\n",
    "The table below shows, from highest to lowest, the offense rate per capita in the different districts of Seattle."
   ]
  },
  {
   "cell_type": "code",
   "execution_count": 49,
   "metadata": {
    "collapsed": false,
    "hideCode": true,
    "hidePrompt": true
   },
   "outputs": [
    {
     "name": "stderr",
     "output_type": "stream",
     "text": [
      "C:\\ProgramData\\Anaconda2\\lib\\site-packages\\ipykernel\\__main__.py:9: FutureWarning: order is deprecated, use sort_values(...)\n"
     ]
    },
    {
     "data": {
      "text/html": [
       "<div>\n",
       "<table border=\"1\" class=\"dataframe\">\n",
       "  <thead>\n",
       "    <tr style=\"text-align: right;\">\n",
       "      <th>District</th>\n",
       "      <th>Number of Offenses per Capita</th>\n",
       "    </tr>\n",
       "  </thead>\n",
       "  <tbody>\n",
       "    <tr>\n",
       "      <th>L</th>\n",
       "      <td>0.233311</td>\n",
       "    </tr>\n",
       "    <tr>\n",
       "      <th>N</th>\n",
       "      <td>0.194174</td>\n",
       "    </tr>\n",
       "    <tr>\n",
       "      <th>J</th>\n",
       "      <td>0.055352</td>\n",
       "    </tr>\n",
       "    <tr>\n",
       "      <th>U</th>\n",
       "      <td>0.037487</td>\n",
       "    </tr>\n",
       "    <tr>\n",
       "      <th>B</th>\n",
       "      <td>0.035687</td>\n",
       "    </tr>\n",
       "    <tr>\n",
       "      <th>E</th>\n",
       "      <td>0.029231</td>\n",
       "    </tr>\n",
       "    <tr>\n",
       "      <th>D</th>\n",
       "      <td>0.022868</td>\n",
       "    </tr>\n",
       "    <tr>\n",
       "      <th>M</th>\n",
       "      <td>0.021092</td>\n",
       "    </tr>\n",
       "    <tr>\n",
       "      <th>Q</th>\n",
       "      <td>0.019947</td>\n",
       "    </tr>\n",
       "    <tr>\n",
       "      <th>K</th>\n",
       "      <td>0.019394</td>\n",
       "    </tr>\n",
       "  </tbody>\n",
       "</table>\n",
       "</div>"
      ],
      "text/plain": [
       "District  Number of Offenses per Capita\n",
       "L                              0.233311\n",
       "N                              0.194174\n",
       "J                              0.055352\n",
       "U                              0.037487\n",
       "B                              0.035687\n",
       "E                              0.029231\n",
       "D                              0.022868\n",
       "M                              0.021092\n",
       "Q                              0.019947\n",
       "K                              0.019394"
      ]
     },
     "execution_count": 49,
     "metadata": {},
     "output_type": "execute_result"
    }
   ],
   "source": [
    "    #District with more Crimes per capita\n",
    "    zoneAllMean = df.groupby('District/Sector').mean()\n",
    "\n",
    "    zoneCensus = zoneAllMean['Census Tract 2000']\n",
    "    zoneCrimes = df['District/Sector'].value_counts()\n",
    "    \n",
    "    \n",
    "    zoneCrPerCap = zoneCrimes / zoneCensus\n",
    "    zoneCrPerCapOrd   = zoneCrPerCap.order(ascending = False) #sort a series\n",
    "\n",
    "    zoneCrPerCapOrd = zoneCrPerCapOrd[~pd.isnull(zoneCrPerCapOrd)] #eliminate nulls\n",
    "    \n",
    "    table = pd.DataFrame(zoneCrPerCapOrd.head(10))\n",
    "    table.columns = ['Number of Offenses per Capita']\n",
    "    table.columns.name = 'District'\n",
    "    table\n"
   ]
  },
  {
   "cell_type": "markdown",
   "metadata": {
    "hideCode": true,
    "hidePrompt": true
   },
   "source": [
    "The following chart shows the crime rate per capita in the different districts of Seattle. Information of the ratio of the four most common crimes (STOLEN PROPERTY, BURGLARY, VEHICLE THEFT, ASSAULT) as well as information on the percentage of the remaining offenses (OTHERS) has been added to the graph."
   ]
  },
  {
   "cell_type": "code",
   "execution_count": 53,
   "metadata": {
    "collapsed": false,
    "hideCode": true,
    "hidePrompt": true
   },
   "outputs": [
    {
     "name": "stderr",
     "output_type": "stream",
     "text": [
      "C:\\ProgramData\\Anaconda2\\lib\\site-packages\\ipykernel\\__main__.py:9: FutureWarning: order is deprecated, use sort_values(...)\n",
      "C:\\ProgramData\\Anaconda2\\lib\\site-packages\\ipykernel\\__main__.py:33: SettingWithCopyWarning: \n",
      "A value is trying to be set on a copy of a slice from a DataFrame\n",
      "\n",
      "See the caveats in the documentation: http://pandas.pydata.org/pandas-docs/stable/indexing.html#indexing-view-versus-copy\n"
     ]
    },
    {
     "data": {
      "image/png": "[encoded data removed]",
      "text/plain": [
       "<matplotlib.figure.Figure at 0xc234850>"
      ]
     },
     "metadata": {},
     "output_type": "display_data"
    }
   ],
   "source": [
    "    #relation of incident vs census track by District/Sector\n",
    "    zoneAllMean = df.groupby('District/Sector').mean()\n",
    "\n",
    "    zoneCensus = zoneAllMean['Census Tract 2000']\n",
    "    zoneCrimes = df['District/Sector'].value_counts()\n",
    "    \n",
    "    \n",
    "    zoneCrPerCap = zoneCrimes / zoneCensus\n",
    "    zoneCrPerCapOrd   = zoneCrPerCap.order(ascending = False) #sort a series\n",
    "\n",
    "    zoneCrPerCapOrd = zoneCrPerCapOrd[~pd.isnull(zoneCrPerCapOrd)] #eliminate nulls\n",
    "\n",
    "    #create an empty df for results\n",
    "    dfStat = pd.DataFrame(index=zoneCrPerCapOrd.index, columns=dfCrCoOrder.index[0:5])\n",
    "    #fill with zeros\n",
    "    #dfStat = dfStat.fillna(0.0) # with 0s rather than NaNs\n",
    "\n",
    "    #create a full Stat results\n",
    "    dfFullStat = pd.concat([zoneCrPerCapOrd, dfStat], axis = 1)\n",
    "    dfFullStat.columns = [u'OFFENSE', u'STOLEN PROPERTY', u'BURGLARY', u'VEHICLE THEFT', u'ASSAULT', u'OTHERS']\n",
    "\n",
    "\n",
    "    for zone in zoneCrPerCapOrd.index:\n",
    "\n",
    "        dfz = df[df['District/Sector']==zone]\n",
    "\n",
    "        for i in range(4):\n",
    "            \n",
    "            offense = dfCrCoOrder.index[i]\n",
    "\n",
    "            dfzo = dfz[dfz['Summarized Offense Description']==offense]\n",
    "\n",
    "            dfFullStat[offense][zone] = len(dfzo)/zoneCensus[zone]\n",
    "\n",
    "        #Others\n",
    "        dfFullStat.ix[zone,5] = zoneCrPerCapOrd[zone]-sum( dfFullStat.ix[zone,1:5] )\n",
    "\n",
    "\n",
    "    dfFullStat.ix[:,6:0:-1].plot(kind='bar', stacked=True)\n",
    "    plt.show()"
   ]
  },
  {
   "cell_type": "markdown",
   "metadata": {},
   "source": [
    "## Conclusions\n",
    "The N and L districts have the most number of offenses per capita. The most problematic months are July, August and September posibly because of the relationship with the high temperature. The most common crimes are stolen property, burglary, vehicle theft and assault.\n",
    "On the other hand, K and Q are the safest districts.\n",
    "\n",
    "\n",
    "\n",
    "\n",
    "The study carried out by Juan M. Beigbeder"
   ]
  },
  {
   "cell_type": "code",
   "execution_count": null,
   "metadata": {
    "collapsed": true,
    "hideCode": true,
    "hidePrompt": true
   },
   "outputs": [],
   "source": []
  }
 ],
 "metadata": {
  "hide_code_all_hidden": true,
  "kernelspec": {
   "display_name": "Python 2",
   "language": "python",
   "name": "python2"
  },
  "language_info": {
   "codemirror_mode": {
    "name": "ipython",
    "version": 2
   },
   "file_extension": ".py",
   "mimetype": "text/x-python",
   "name": "python",
   "nbconvert_exporter": "python",
   "pygments_lexer": "ipython2",
   "version": "2.7.13"
  }
 },
 "nbformat": 4,
 "nbformat_minor": 2
}
